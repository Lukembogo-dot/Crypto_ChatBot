{
  "nbformat": 4,
  "nbformat_minor": 0,
  "metadata": {
    "colab": {
      "provenance": [],
      "authorship_tag": "ABX9TyNCWd175u6dXpf7GoXfTt5f",
      "include_colab_link": true
    },
    "kernelspec": {
      "name": "python3",
      "display_name": "Python 3"
    },
    "language_info": {
      "name": "python"
    }
  },
  "cells": [
    {
      "cell_type": "markdown",
      "metadata": {
        "id": "view-in-github",
        "colab_type": "text"
      },
      "source": [
        "<a href=\"https://colab.research.google.com/github/Lukembogo-dot/Crypto_ChatBot/blob/main/Cryptocurrency.ipynb\" target=\"_parent\"><img src=\"https://colab.research.google.com/assets/colab-badge.svg\" alt=\"Open In Colab\"/></a>"
      ]
    },
    {
      "cell_type": "code",
      "execution_count": 1,
      "metadata": {
        "colab": {
          "base_uri": "https://localhost:8080/"
        },
        "id": "L20rEjVPR-k4",
        "outputId": "adf58e31-661b-4b3e-bcbc-f0d6797b096e"
      },
      "outputs": [
        {
          "output_type": "stream",
          "name": "stdout",
          "text": [
            "👋 Hey there! I'm CryptoBuddy — your friendly crypto sidekick! 🚀\n",
            "Ask me about trends, sustainability, or which coin looks hot right now!\n"
          ]
        }
      ],
      "source": [
        "# Step 1: Define the chatbot's personality\n",
        "print(\"👋 Hey there! I'm CryptoBuddy — your friendly crypto sidekick! 🚀\\nAsk me about trends, sustainability, or which coin looks hot right now!\")\n",
        "\n",
        "# Step 2: Predefined crypto data\n",
        "crypto_db = {\n",
        "    \"Bitcoin\": {\n",
        "        \"price_trend\": \"rising\",\n",
        "        \"market_cap\": \"high\",\n",
        "        \"energy_use\": \"high\",\n",
        "        \"sustainability_score\": 3/10\n",
        "    },\n",
        "    \"Ethereum\": {\n",
        "        \"price_trend\": \"stable\",\n",
        "        \"market_cap\": \"high\",\n",
        "        \"energy_use\": \"medium\",\n",
        "        \"sustainability_score\": 6/10\n",
        "    },\n",
        "    \"Cardano\": {\n",
        "        \"price_trend\": \"rising\",\n",
        "        \"market_cap\": \"medium\",\n",
        "        \"energy_use\": \"low\",\n",
        "        \"sustainability_score\": 8/10\n",
        "    }\n",
        "}"
      ]
    },
    {
      "cell_type": "code",
      "source": [
        "# Step 3: Basic chatbot logic\n",
        "def crypto_advisor(user_query):\n",
        "    user_query = user_query.lower()\n",
        "\n",
        "    if \"sustainable\" in user_query:\n",
        "        # Find the crypto with highest sustainability score\n",
        "        recommend = max(crypto_db, key=lambda x: crypto_db[x][\"sustainability_score\"])\n",
        "        print(f\"🌱 I'd recommend {recommend}! It's one of the most eco-friendly options out there.\")\n",
        "\n",
        "    elif \"trending\" in user_query or \"rising\" in user_query:\n",
        "        # Find cryptos with rising trend\n",
        "        trending_cryptos = [coin for coin in crypto_db if crypto_db[coin][\"price_trend\"] == \"rising\"]\n",
        "        print(f\"📈 These cryptos are on the rise: {', '.join(trending_cryptos)}\")\n",
        "\n",
        "    elif \"long-term\" in user_query or \"growth\" in user_query:\n",
        "        # Recommend coin with rising trend and high sustainability\n",
        "        for coin, data in crypto_db.items():\n",
        "            if data[\"price_trend\"] == \"rising\" and data[\"sustainability_score\"] > 0.7:\n",
        "                print(f\"🚀 {coin} is trending up and eco-friendly — a good long-term option!\")\n",
        "                return\n",
        "        print(\"🔍 Hmm, I couldn't find a perfect match right now. Try checking back later!\")\n",
        "\n",
        "    elif \"best\" in user_query or \"recommend\" in user_query:\n",
        "        # Recommend based on both profitability and sustainability\n",
        "        for coin, data in crypto_db.items():\n",
        "            if data[\"price_trend\"] == \"rising\" and data[\"market_cap\"] == \"high\":\n",
        "                print(f\"💡 Try {coin}! It's profitable and has high market presence.\")\n",
        "                return\n",
        "\n",
        "    else:\n",
        "        print(\"🤔 I'm not sure how to help with that. Try asking about trends, sustainability, or long-term growth.\")\n",
        "crypto_advisor(\"Which crypto is the most sustainable?\")\n",
        "crypto_advisor(\"What’s trending right now?\")\n",
        "crypto_advisor(\"Which crypto should I buy for long-term growth?\")\n",
        "crypto_advisor(\"Recommend a coin!\")\n",
        "\n"
      ],
      "metadata": {
        "colab": {
          "base_uri": "https://localhost:8080/"
        },
        "id": "NJ0mH1sxTorO",
        "outputId": "9b46c77c-cab1-4f97-b519-a7b6fb70e113"
      },
      "execution_count": 2,
      "outputs": [
        {
          "output_type": "stream",
          "name": "stdout",
          "text": [
            "🌱 I'd recommend Cardano! It's one of the most eco-friendly options out there.\n",
            "📈 These cryptos are on the rise: Bitcoin, Cardano\n",
            "🚀 Cardano is trending up and eco-friendly — a good long-term option!\n",
            "💡 Try Bitcoin! It's profitable and has high market presence.\n"
          ]
        }
      ]
    },
    {
      "cell_type": "code",
      "source": [
        "# Step 5: Chat loop\n",
        "print(\"\\n👋 Type your crypto question below or type 'exit' to leave.\\n\")\n",
        "\n",
        "while True:\n",
        "    user_input = input(\"You: \")\n",
        "    if user_input.lower() in [\"exit\", \"quit\"]:\n",
        "        print(\"CryptoBuddy: 👋 Alright, stay safe and invest wisely!\")\n",
        "        break\n",
        "    crypto_advisor(user_input)\n"
      ],
      "metadata": {
        "colab": {
          "base_uri": "https://localhost:8080/"
        },
        "id": "xHba8RcGUQDO",
        "outputId": "e103e16e-3c70-46d7-bcfc-5e2065762a7c"
      },
      "execution_count": 5,
      "outputs": [
        {
          "output_type": "stream",
          "name": "stdout",
          "text": [
            "\n",
            "👋 Type your crypto question below or type 'exit' to leave.\n",
            "\n",
            "You: Hello\n",
            "🤔 I'm not sure how to help with that. Try asking about trends, sustainability, or long-term growth.\n",
            "You: What is the best coin to buy now\n",
            "💡 Try Bitcoin! It's profitable and has high market presence.\n",
            "You: which has more returns\n",
            "🤔 I'm not sure how to help with that. Try asking about trends, sustainability, or long-term growth.\n",
            "You: which is more sustainable\n",
            "🌱 I'd recommend Cardano! It's one of the most eco-friendly options out there.\n",
            "You: which has the highest long-term reward\n",
            "🚀 Cardano is trending up and eco-friendly — a good long-term option!\n",
            "You: exit\n",
            "CryptoBuddy: 👋 Alright, stay safe and invest wisely!\n"
          ]
        }
      ]
    }
  ]
}